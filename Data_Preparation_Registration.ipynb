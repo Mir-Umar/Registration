{
 "cells": [
  {
   "cell_type": "code",
   "execution_count": 1,
   "id": "backed-senegal",
   "metadata": {},
   "outputs": [],
   "source": [
    "import os\n",
    "import re\n",
    "import cv2\n",
    "# import itk\n",
    "import SimpleITK as sitk\n",
    "import glob\n",
    "import random\n",
    "import shutil\n",
    "import glob\n",
    "import numpy as np\n",
    "# import splitfolders\n",
    "# import nibabel as nb\n",
    "from PIL import Image\n",
    "import SimpleITK as sitk\n",
    "import matplotlib.pyplot as plt\n",
    "import scipy.ndimage as snd\n",
    "from skimage.transform import AffineTransform, warp\n",
    "from skimage.filters.thresholding import threshold_otsu"
   ]
  },
  {
   "cell_type": "code",
   "execution_count": 2,
   "id": "million-collapse",
   "metadata": {},
   "outputs": [],
   "source": [
    "# friend code for image numbering\n",
    "numbers = re.compile(r'(\\d+)')\n",
    "def numericalSort(value):\n",
    "    parts = numbers.split(value)\n",
    "    parts[1::2] = map(int, parts[1::2])\n",
    "    return parts"
   ]
  },
  {
   "cell_type": "code",
   "execution_count": 10,
   "id": "tropical-patent",
   "metadata": {},
   "outputs": [],
   "source": [
    "# Removing Images having very low information\n",
    "input_path = r\"C:\\Users\\satya\\Jupyter_projects\\Registration\\data\\flair_images\\flair_images\" \n",
    "destination_path =r\"C:\\Users\\satya\\Jupyter_projects\\Registration\\data\\fixed_images\"\n",
    "\n",
    "for index, file in enumerate(sorted(glob.glob(input_path + \"/*.png\"), key=numericalSort)):\n",
    "    image = cv2.imread(file)\n",
    "    summa = np.sum(image)\n",
    "    if summa != 0:\n",
    "        os.chdir(destination_path)\n",
    "        plt.imsave('fixed_' + str (index) + '.png', image, cmap='gray')\n",
    "        "
   ]
  },
  {
   "cell_type": "code",
   "execution_count": 16,
   "id": "frequent-chart",
   "metadata": {},
   "outputs": [],
   "source": [
    "# Providing random transformation to the images and saving the transformation data in a csv file\n",
    "fixed_path = r\"D:\\Studies\\Registration\\data\\final_data\\train\\fixed_images\"\n",
    "moving_path = r\"D:\\Studies\\Registration\\data\\final_data\\train\\moving_images\"\n",
    "\n",
    "transformations = []\n",
    "for index, file in enumerate(sorted(glob.glob(fixed_path + \"/*.png\"), key=numericalSort)):\n",
    "    fixed_image = cv2.imread(file)\n",
    "\n",
    "    # Give random translation(+-2.5 mm) and rotation(+-5 degrees)\n",
    "    translation=[random.uniform(-2.5, 2.5) for p in range(0, 2)]\n",
    "    rotation=random.uniform(-0.08726646, 0.08726646)\n",
    "    transformation = AffineTransform(translation=translation, rotation=rotation)\n",
    "    moving_image  = warp(fixed_image, transformation)\n",
    "\n",
    "    os.chdir(moving_path)\n",
    "    plt.imsave('moving_' + str (index) + '.png', moving_image, cmap='gray')\n",
    "    transformations.append((translation[0], translation[1], rotation))"
   ]
  },
  {
   "cell_type": "code",
   "execution_count": 17,
   "id": "useful-chester",
   "metadata": {},
   "outputs": [],
   "source": [
    "# For train transformations\n",
    "os.chdir(r\"D:\\Studies\\Registration\\data\\final_data\\train\")\n",
    "tf = []\n",
    "for i in range(len(transformations)):\n",
    "    tf.append(transformations[i])\n",
    "import csv \n",
    "Details = ['tx', 'ty', 'theta_cc']  \n",
    "rows = tf\n",
    "with open('train_transforms.csv', 'w') as f: \n",
    "    write = csv.writer(f) \n",
    "    write.writerow(Details) \n",
    "    write.writerows(rows) "
   ]
  },
  {
   "cell_type": "code",
   "execution_count": null,
   "id": "decent-halloween",
   "metadata": {},
   "outputs": [],
   "source": [
    "input_path = r\"C:\\Users\\satya\\Jupyter_projects\\Registration\\data\\images\"\n",
    "output_path = r\"C:\\Users\\satya\\Jupyter_projects\\Registration\\data\\final_data\"\n",
    "# Split with a ratio.\n",
    "splitfolders.ratio(input_path, output=output_path, seed=1337, ratio=(.8, .1, .1), group_prefix=None) "
   ]
  },
  {
   "cell_type": "markdown",
   "id": "variable-injury",
   "metadata": {},
   "source": [
    "## code for binarizing and hole filling"
   ]
  },
  {
   "cell_type": "code",
   "execution_count": 8,
   "id": "endless-florence",
   "metadata": {},
   "outputs": [],
   "source": [
    "# Fixed image\n",
    "input_path = r\"F:\\final_data\\test\\fixed_images\" \n",
    "destination_path =r\"F:\\final_data\\test\\fixed_images_binarized\"\n",
    "for index, file in enumerate(sorted(glob.glob(input_path + \"/*.png\"), key=numericalSort)):\n",
    "    fixed = cv2.imread(file)\n",
    "    # plt.imshow(fixed, cmap='gray')\n",
    "    fixed = fixed[:,:,1]\n",
    "    thresh = threshold_otsu(fixed)\n",
    "    fixed1 = 255*(fixed > thresh)\n",
    "    fixed1 = snd.morphology.binary_fill_holes(fixed1) # Used for filling the holes \n",
    "    os.chdir(destination_path)\n",
    "    plt.imsave('fixed_Binarised_' + str (index) + '.png', fixed1, cmap='gray')\n",
    "\n",
    "# plt.imshow(fixed1, cmap='gray')\n",
    "# # Moving image\n",
    "# moving = Image.open(r'C:\\Users\\satya\\Jupyter_projects\\Project\\Own model\\Data\\Fixed_transformed\\train\\fixed_transformed_0.jpg')\n",
    "# moving = moving.convert('L')\n",
    "# moving = np.asarray(moving)\n",
    "# thresh = threshold_otsu(moving)\n",
    "# moving1 = 255*(moving > thresh)\n",
    "# moving1 = snd.morphology.binary_fill_holes(moving1) # Used for filling the holes \n",
    "# show4(fixed, fixed1, moving, moving1, 'Fixed image', 'Binarized fixed image', 'Moving image', 'Binarized moving image')"
   ]
  },
  {
   "cell_type": "code",
   "execution_count": 9,
   "id": "dcd65d05",
   "metadata": {},
   "outputs": [],
   "source": [
    "# Moving image\n",
    "input_path = r\"F:\\final_data\\test\\moving_images\" \n",
    "destination_path =r\"F:\\final_data\\test\\moving_images_binarized\"\n",
    "for index, file in enumerate(sorted(glob.glob(input_path + \"/*.png\"), key=numericalSort)):\n",
    "    moving = cv2.imread(file)\n",
    "    # plt.imshow(fixed, cmap='gray')\n",
    "    moving = moving[:,:,1]\n",
    "    thresh = threshold_otsu(moving)\n",
    "    moving1 = 255*(moving > thresh)\n",
    "    moving1 = snd.morphology.binary_fill_holes(moving1) # Used for filling the holes \n",
    "    os.chdir(destination_path)\n",
    "    plt.imsave('Moving_Binarised_' + str (index) + '.png', moving1, cmap='gray')"
   ]
  },
  {
   "cell_type": "code",
   "execution_count": 10,
   "id": "5536f592",
   "metadata": {},
   "outputs": [],
   "source": [
    "# Fixed image Val\n",
    "input_path = r\"F:\\final_data\\val\\fixed_images\" \n",
    "destination_path =r\"F:\\final_data\\val\\fixed_images_binarized\"\n",
    "for index, file in enumerate(sorted(glob.glob(input_path + \"/*.png\"), key=numericalSort)):\n",
    "    fixed = cv2.imread(file)\n",
    "    # plt.imshow(fixed, cmap='gray')\n",
    "    fixed = fixed[:,:,1]\n",
    "    thresh = threshold_otsu(fixed)\n",
    "    fixed1 = 255*(fixed > thresh)\n",
    "    fixed1 = snd.morphology.binary_fill_holes(fixed1) # Used for filling the holes \n",
    "    os.chdir(destination_path)\n",
    "    plt.imsave('fixed_Binarised_val_' + str (index) + '.png', fixed1, cmap='gray')\n"
   ]
  },
  {
   "cell_type": "code",
   "execution_count": 11,
   "id": "a0c57cce",
   "metadata": {},
   "outputs": [],
   "source": [
    "# Moving image Val\n",
    "input_path = r\"F:\\final_data\\val\\moving_images\" \n",
    "destination_path =r\"F:\\final_data\\val\\moving_images_binarized\"\n",
    "for index, file in enumerate(sorted(glob.glob(input_path + \"/*.png\"), key=numericalSort)):\n",
    "    moving = cv2.imread(file)\n",
    "    # plt.imshow(fixed, cmap='gray')\n",
    "    moving = moving[:,:,1]\n",
    "    thresh = threshold_otsu(moving)\n",
    "    moving1 = 255*(moving > thresh)\n",
    "    moving1 = snd.morphology.binary_fill_holes(moving1) # Used for filling the holes \n",
    "    os.chdir(destination_path)\n",
    "    plt.imsave('Moving_Binarised_val' + str (index) + '.png', moving1, cmap='gray')"
   ]
  },
  {
   "cell_type": "code",
   "execution_count": 7,
   "id": "33c4295a",
   "metadata": {},
   "outputs": [
    {
     "ename": "KeyboardInterrupt",
     "evalue": "",
     "output_type": "error",
     "traceback": [
      "\u001b[1;31m---------------------------------------------------------------------------\u001b[0m",
      "\u001b[1;31mKeyboardInterrupt\u001b[0m                         Traceback (most recent call last)",
      "\u001b[1;32m<ipython-input-7-3cc8b440347a>\u001b[0m in \u001b[0;36m<module>\u001b[1;34m\u001b[0m\n\u001b[0;32m      3\u001b[0m \u001b[0mdestination_path\u001b[0m \u001b[1;33m=\u001b[0m\u001b[1;34mr\"F:\\final_data\\train\\fixed_images_binarized\"\u001b[0m\u001b[1;33m\u001b[0m\u001b[1;33m\u001b[0m\u001b[0m\n\u001b[0;32m      4\u001b[0m \u001b[1;32mfor\u001b[0m \u001b[0mindex\u001b[0m\u001b[1;33m,\u001b[0m \u001b[0mfile\u001b[0m \u001b[1;32min\u001b[0m \u001b[0menumerate\u001b[0m\u001b[1;33m(\u001b[0m\u001b[0msorted\u001b[0m\u001b[1;33m(\u001b[0m\u001b[0mglob\u001b[0m\u001b[1;33m.\u001b[0m\u001b[0mglob\u001b[0m\u001b[1;33m(\u001b[0m\u001b[0minput_path\u001b[0m \u001b[1;33m+\u001b[0m \u001b[1;34m\"/*.png\"\u001b[0m\u001b[1;33m)\u001b[0m\u001b[1;33m,\u001b[0m \u001b[0mkey\u001b[0m\u001b[1;33m=\u001b[0m\u001b[0mnumericalSort\u001b[0m\u001b[1;33m)\u001b[0m\u001b[1;33m)\u001b[0m\u001b[1;33m:\u001b[0m\u001b[1;33m\u001b[0m\u001b[1;33m\u001b[0m\u001b[0m\n\u001b[1;32m----> 5\u001b[1;33m     \u001b[0mfixed\u001b[0m \u001b[1;33m=\u001b[0m \u001b[0mcv2\u001b[0m\u001b[1;33m.\u001b[0m\u001b[0mimread\u001b[0m\u001b[1;33m(\u001b[0m\u001b[0mfile\u001b[0m\u001b[1;33m)\u001b[0m\u001b[1;33m\u001b[0m\u001b[1;33m\u001b[0m\u001b[0m\n\u001b[0m\u001b[0;32m      6\u001b[0m     \u001b[1;31m# plt.imshow(fixed, cmap='gray')\u001b[0m\u001b[1;33m\u001b[0m\u001b[1;33m\u001b[0m\u001b[1;33m\u001b[0m\u001b[0m\n\u001b[0;32m      7\u001b[0m     \u001b[0mfixed\u001b[0m \u001b[1;33m=\u001b[0m \u001b[0mfixed\u001b[0m\u001b[1;33m[\u001b[0m\u001b[1;33m:\u001b[0m\u001b[1;33m,\u001b[0m\u001b[1;33m:\u001b[0m\u001b[1;33m,\u001b[0m\u001b[1;36m1\u001b[0m\u001b[1;33m]\u001b[0m\u001b[1;33m\u001b[0m\u001b[1;33m\u001b[0m\u001b[0m\n",
      "\u001b[1;31mKeyboardInterrupt\u001b[0m: "
     ]
    }
   ],
   "source": [
    "# Fixed image Train\n",
    "input_path = r\"F:\\final_data\\train\\fixed_images\" \n",
    "destination_path =r\"F:\\final_data\\train\\fixed_images_binarized\"\n",
    "for index, file in enumerate(sorted(glob.glob(input_path + \"/*.png\"), key=numericalSort)):\n",
    "    fixed = cv2.imread(file)\n",
    "    # plt.imshow(fixed, cmap='gray')\n",
    "    fixed = fixed[:,:,1]\n",
    "    thresh = threshold_otsu(fixed)\n",
    "    fixed1 = 255*(fixed > thresh)\n",
    "    fixed1 = snd.morphology.binary_fill_holes(fixed1) # Used for filling the holes \n",
    "    os.chdir(destination_path)\n",
    "    plt.imsave('blended_train_' + str(index) + '.jpg', temp)"
   ]
  },
  {
   "cell_type": "code",
   "execution_count": 5,
   "id": "b05a2dc3",
   "metadata": {},
   "outputs": [],
   "source": [
    "# Renaming the Images \n",
    "input_path = r\"F:\\final_data\\train\\Binarised_blended\" \n",
    "destination_path = r\"F:\\final_data\\train\\Blended_train\"\n",
    "for index, file in enumerate(sorted(glob.glob(input_path + \"/*.jpg\"), key=numericalSort)):\n",
    "    temp = cv2.imread(file)\n",
    "    os.chdir(destination_path)\n",
    "    cv2.imwrite('blended_train_' + str(index) + '.jpg', temp) \n",
    "    "
   ]
  },
  {
   "cell_type": "code",
   "execution_count": 14,
   "id": "410b1f12",
   "metadata": {},
   "outputs": [],
   "source": [
    "# Moving image Train\n",
    "input_path = r\"F:\\final_data\\train\\moving_images\" \n",
    "destination_path =r\"F:\\final_data\\train\\moving_images_binarized\"\n",
    "for index, file in enumerate(sorted(glob.glob(input_path + \"/*.png\"), key=numericalSort)):\n",
    "    moving = cv2.imread(file)\n",
    "    # plt.imshow(fixed, cmap='gray')\n",
    "    moving = moving[:,:,1]\n",
    "    thresh = threshold_otsu(moving)\n",
    "    moving1 = 255*(moving > thresh)\n",
    "    moving1 = snd.morphology.binary_fill_holes(moving1) # Used for filling the holes \n",
    "    os.chdir(destination_path)\n",
    "    plt.imsave('Moving_Binarised_train' + str (index) + '.png', moving1, cmap='gray')"
   ]
  },
  {
   "cell_type": "markdown",
   "id": "503a90e0",
   "metadata": {},
   "source": [
    "## Modelling the data"
   ]
  },
  {
   "cell_type": "code",
   "execution_count": 4,
   "id": "loved-convertible",
   "metadata": {},
   "outputs": [],
   "source": [
    "# Blending the images \n",
    "\n",
    "fixed_path = r\"F:\\final_data\\val\\fixed_images\"\n",
    "moving_path = r\"F:\\final_data\\val\\moving_images\"\n",
    "\n",
    "fixed_paths = []\n",
    "moving_paths = []\n",
    "\n",
    "for file in (sorted(glob.glob(fixed_path + '/*.png'), key=numericalSort)):\n",
    "    fixed_paths.append(file)\n",
    "\n",
    "for file in (sorted(glob.glob(moving_path + '/*.png'), key=numericalSort)):\n",
    "    moving_paths.append(file)\n",
    "\n",
    "\n",
    "for index, (fixed, moving) in enumerate(zip(fixed_paths, moving_paths)):\n",
    "    fixed_image = cv2.imread(fixed)\n",
    "    moving_image = cv2.imread(moving)\n",
    "    \n",
    "    # Create a new image containing both the fixed and the moving images\n",
    "    h, w = 240, 240\n",
    "    temp = np.zeros((h, w, 3))\n",
    "    temp[:,:,0] = fixed_image[:,:,0]/255.0 \n",
    "    temp[:,:,1] = moving_image [:,:,0]/255.0\n",
    "    dest = r\"F:\\final_data\\val\\Blended\"\n",
    "    os.chdir(dest)\n",
    "    plt.imsave('blended_val_' + str(index) + '.jpg', temp) "
   ]
  },
  {
   "cell_type": "code",
   "execution_count": 1,
   "id": "absolute-church",
   "metadata": {},
   "outputs": [
    {
     "ename": "NameError",
     "evalue": "name 'cv2' is not defined",
     "output_type": "error",
     "traceback": [
      "\u001b[1;31m---------------------------------------------------------------------------\u001b[0m",
      "\u001b[1;31mNameError\u001b[0m                                 Traceback (most recent call last)",
      "\u001b[1;32m<ipython-input-1-5414bd32e4f0>\u001b[0m in \u001b[0;36m<module>\u001b[1;34m\u001b[0m\n\u001b[0;32m      1\u001b[0m \u001b[0mfixed\u001b[0m \u001b[1;33m=\u001b[0m \u001b[1;34mr\"F:\\final_data\\train\\fixed_images\\fixed_train_46.png\"\u001b[0m\u001b[1;33m\u001b[0m\u001b[1;33m\u001b[0m\u001b[0m\n\u001b[0;32m      2\u001b[0m \u001b[0mmoving\u001b[0m \u001b[1;33m=\u001b[0m \u001b[1;34mr\"F:\\final_data\\train\\moving_images\\moving_46.png\"\u001b[0m\u001b[1;33m\u001b[0m\u001b[1;33m\u001b[0m\u001b[0m\n\u001b[1;32m----> 3\u001b[1;33m \u001b[0mfixed_image\u001b[0m \u001b[1;33m=\u001b[0m \u001b[0mcv2\u001b[0m\u001b[1;33m.\u001b[0m\u001b[0mimread\u001b[0m\u001b[1;33m(\u001b[0m\u001b[0mfixed\u001b[0m\u001b[1;33m)\u001b[0m\u001b[1;33m\u001b[0m\u001b[1;33m\u001b[0m\u001b[0m\n\u001b[0m\u001b[0;32m      4\u001b[0m \u001b[0mmoving_image\u001b[0m \u001b[1;33m=\u001b[0m \u001b[0mcv2\u001b[0m\u001b[1;33m.\u001b[0m\u001b[0mimread\u001b[0m\u001b[1;33m(\u001b[0m\u001b[0mmoving\u001b[0m\u001b[1;33m)\u001b[0m\u001b[1;33m\u001b[0m\u001b[1;33m\u001b[0m\u001b[0m\n\u001b[0;32m      5\u001b[0m \u001b[0mprint\u001b[0m\u001b[1;33m(\u001b[0m\u001b[0mtype\u001b[0m\u001b[1;33m(\u001b[0m\u001b[0mfixed_image\u001b[0m\u001b[1;33m)\u001b[0m\u001b[1;33m)\u001b[0m\u001b[1;33m\u001b[0m\u001b[1;33m\u001b[0m\u001b[0m\n",
      "\u001b[1;31mNameError\u001b[0m: name 'cv2' is not defined"
     ]
    }
   ],
   "source": [
    "fixed = r\"F:\\final_data\\train\\fixed_images\\fixed_train_46.png\"\n",
    "moving = r\"F:\\final_data\\train\\moving_images\\moving_46.png\"\n",
    "fixed_image = cv2.imread(fixed)\n",
    "moving_image = cv2.imread(moving)\n",
    "print(type(fixed_image))\n",
    "print(np.shape(fixed_image[:,:,0]))\n",
    "window_name = 'fixed_image'\n",
    "cv2.imshow(window_name,fixed_image)\n"
   ]
  },
  {
   "cell_type": "code",
   "execution_count": null,
   "id": "a26713a5",
   "metadata": {},
   "outputs": [],
   "source": []
  }
 ],
 "metadata": {
  "kernelspec": {
   "display_name": "Python 3 (ipykernel)",
   "language": "python",
   "name": "python3"
  },
  "language_info": {
   "codemirror_mode": {
    "name": "ipython",
    "version": 3
   },
   "file_extension": ".py",
   "mimetype": "text/x-python",
   "name": "python",
   "nbconvert_exporter": "python",
   "pygments_lexer": "ipython3",
   "version": "3.8.8"
  }
 },
 "nbformat": 4,
 "nbformat_minor": 5
}
