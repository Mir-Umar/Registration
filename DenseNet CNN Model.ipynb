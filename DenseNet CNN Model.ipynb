{
 "cells": [
  {
   "cell_type": "markdown",
   "id": "6376cbfc",
   "metadata": {},
   "source": [
    "## DenseNet CNN Model"
   ]
  },
  {
   "cell_type": "code",
   "execution_count": null,
   "id": "2f63bb85",
   "metadata": {},
   "outputs": [],
   "source": [
    "import os\n",
    "import cv2\n",
    "import time\n",
    "import glob\n",
    "import random\n",
    "import numpy as np\n",
    "import pandas as pd\n",
    "import matplotlib.pyplot as plt\n",
    "from skimage.transform import AffineTransform, warp\n",
    "import tensorflow as tf\n",
    "import re\n",
    "import math\n",
    "import statistics"
   ]
  },
  {
   "cell_type": "code",
   "execution_count": 2,
   "id": "687ef593",
   "metadata": {},
   "outputs": [],
   "source": [
    "# Load the transformation parameters\n",
    "y_train = pd.read_csv(r'F:\\final_data\\train\\train_transforms.csv')\n",
    "y_test = pd.read_csv(r'F:\\final_data\\test\\test_transforms.csv')\n",
    "y_train = [list(row) for row in y_train.values]\n",
    "y_test = [list(row) for row in y_test.values]\n",
    "y_train=np.array(y_train)\n",
    "y_test=np.array(y_test)"
   ]
  },
  {
   "cell_type": "code",
   "execution_count": 3,
   "id": "75ed3ff4",
   "metadata": {},
   "outputs": [],
   "source": [
    "y_train_ls = y_train[0:10000]\n",
    "y_test_ls = y_test[0:1200]"
   ]
  },
  {
   "cell_type": "code",
   "execution_count": 4,
   "id": "a86e8268",
   "metadata": {},
   "outputs": [],
   "source": [
    "#  Define the custom loss function (MSE)\n",
    "# Defining a custom loss function involving the transformation matrix\n",
    "def model_loss(y_true, y_pred):\n",
    "    \n",
    "    # Difference between true label and predicted label\n",
    "    error = (y_true-y_pred) \n",
    "    \n",
    "    # Square of the error\n",
    "    sqr_error = error*error    \n",
    "    \n",
    "    # Mean of the square of the error\n",
    "    mean_sqr_error = statistics.mean(sqr_error)    \n",
    "    return mean_sqr_error"
   ]
  },
  {
   "cell_type": "code",
   "execution_count": 5,
   "id": "9edbf881",
   "metadata": {},
   "outputs": [],
   "source": [
    "import tensorflow as tf\n",
    "import tensorflow.keras.backend as K\n",
    "from tensorflow.keras.models import Model\n",
    "from tensorflow.keras.layers import Input, Conv2D, BatchNormalization, Dense, ReLU\n",
    "from tensorflow.keras.layers import AvgPool2D, GlobalAveragePooling2D, MaxPool2D, concatenate\n"
   ]
  },
  {
   "cell_type": "code",
   "execution_count": 6,
   "id": "f4aa3a69",
   "metadata": {},
   "outputs": [],
   "source": [
    "import re\n",
    "numbers = re.compile(r'(\\d+)')\n",
    "def numericalSort(value):\n",
    "    parts = numbers.split(value)\n",
    "    parts[1::2] = map(int, parts[1::2])\n",
    "    return parts"
   ]
  },
  {
   "cell_type": "code",
   "execution_count": null,
   "id": "904de306",
   "metadata": {},
   "outputs": [],
   "source": [
    "x_train = []\n",
    "for file in sorted(glob.glob(r\"F:\\final_data\\New folder\\Train/*.jpg\"), key=numericalSort):\n",
    "    img = cv2.imread(file)\n",
    "    img = img/255\n",
    "    x_train.append(img)\n"
   ]
  },
  {
   "cell_type": "code",
   "execution_count": 8,
   "id": "28ec2728",
   "metadata": {},
   "outputs": [],
   "source": [
    "x_test = []\n",
    "for file in sorted(glob.glob(r\"F:\\final_data\\New folder\\Test/*.jpg\"), key=numericalSort):\n",
    "    img = cv2.imread(file)\n",
    "    img = img/255\n",
    "    x_test.append(img)"
   ]
  },
  {
   "cell_type": "code",
   "execution_count": null,
   "id": "ea785718",
   "metadata": {},
   "outputs": [],
   "source": [
    "# Convert our images to numpy arrays\n",
    "x_train=np.array(x_train)\n",
    "x_test=np.array(x_test)"
   ]
  },
  {
   "cell_type": "code",
   "execution_count": null,
   "id": "e9c5cad5",
   "metadata": {},
   "outputs": [],
   "source": [
    "data_dir = \"F:\\final_data\\New folder\\Test\"\n",
    "image_count = len(list(data_dir.glob('*/*.jpg')))\n",
    "print(image_count)\n"
   ]
  },
  {
   "cell_type": "code",
   "execution_count": null,
   "id": "72aedab9",
   "metadata": {},
   "outputs": [],
   "source": [
    "batch_size = 32\n",
    "img_height = 240\n",
    "img_width = 240\n"
   ]
  },
  {
   "cell_type": "code",
   "execution_count": null,
   "id": "b30866b5",
   "metadata": {},
   "outputs": [],
   "source": [
    "import matplotlib.pyplot as plt\n",
    "\n",
    "plt.figure(figsize=(10, 10))\n",
    "for images, labels in x_train.take(1):\n",
    "  for i in range(9):\n",
    "    ax = plt.subplot(3, 3, i + 1)\n",
    "    plt.imshow(images[i].numpy().astype(\"uint8\"))\n",
    "    plt.title(class_names[labels[i]])\n",
    "    plt.axis(\"off\")\n"
   ]
  },
  {
   "cell_type": "code",
   "execution_count": null,
   "id": "b4a332a8",
   "metadata": {},
   "outputs": [],
   "source": [
    "for image_batch, labels_batch in x_train:\n",
    "  print(image_batch.shape)\n",
    "  print(labels_batch.shape)\n",
    "  break\n"
   ]
  },
  {
   "cell_type": "code",
   "execution_count": null,
   "id": "ef209891",
   "metadata": {},
   "outputs": [],
   "source": []
  },
  {
   "cell_type": "code",
   "execution_count": null,
   "id": "c0c5a4d2",
   "metadata": {},
   "outputs": [],
   "source": []
  },
  {
   "cell_type": "code",
   "execution_count": null,
   "id": "39a74f54",
   "metadata": {},
   "outputs": [],
   "source": []
  },
  {
   "cell_type": "code",
   "execution_count": null,
   "id": "7aaa4464",
   "metadata": {},
   "outputs": [],
   "source": []
  }
 ],
 "metadata": {
  "kernelspec": {
   "display_name": "Python 3 (ipykernel)",
   "language": "python",
   "name": "python3"
  },
  "language_info": {
   "codemirror_mode": {
    "name": "ipython",
    "version": 3
   },
   "file_extension": ".py",
   "mimetype": "text/x-python",
   "name": "python",
   "nbconvert_exporter": "python",
   "pygments_lexer": "ipython3",
   "version": "3.8.8"
  }
 },
 "nbformat": 4,
 "nbformat_minor": 5
}
