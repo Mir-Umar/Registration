{
 "cells": [
  {
   "cell_type": "markdown",
   "id": "4e325411",
   "metadata": {},
   "source": [
    "# List Comprehension in Python"
   ]
  },
  {
   "cell_type": "markdown",
   "id": "7d7e2958",
   "metadata": {},
   "source": [
    "newList = [ $expression$(element) $for$ element $in$ oldList $if$ condition]"
   ]
  },
  {
   "cell_type": "code",
   "execution_count": 22,
   "id": "76a05ea4",
   "metadata": {},
   "outputs": [],
   "source": [
    "import math"
   ]
  },
  {
   "cell_type": "code",
   "execution_count": 2,
   "id": "732185c9",
   "metadata": {},
   "outputs": [
    {
     "name": "stdout",
     "output_type": "stream",
     "text": [
      "['H', 'e', 'l', 'l', 'o', ' ', 'W', 'o', 'r', 'l', 'd']\n"
     ]
    }
   ],
   "source": [
    "# Example 1\n",
    "List = [char for char in 'Hello World']\n",
    "print(List)"
   ]
  },
  {
   "cell_type": "code",
   "execution_count": 4,
   "id": "2098a358",
   "metadata": {},
   "outputs": [
    {
     "name": "stdout",
     "output_type": "stream",
     "text": [
      "[0, 1, 4, 9, 16, 25, 36, 49, 64, 81, 100]\n"
     ]
    }
   ],
   "source": [
    "# Example 2\n",
    "Squares = [a*a for a in range(11)]\n",
    "print(Squares)"
   ]
  },
  {
   "cell_type": "code",
   "execution_count": 13,
   "id": "c95999de",
   "metadata": {},
   "outputs": [
    {
     "name": "stdout",
     "output_type": "stream",
     "text": [
      "[0, 4, 16, 36, 64, 100]\n"
     ]
    }
   ],
   "source": [
    "# Example 3 \n",
    "Even_sq = [a*a for a in range(11)if a%2==0]\n",
    "print(Even_sq)"
   ]
  },
  {
   "cell_type": "code",
   "execution_count": 24,
   "id": "0d074904",
   "metadata": {},
   "outputs": [
    {
     "name": "stdout",
     "output_type": "stream",
     "text": [
      "[0.0, 2.0, 4.0, 6.0, 8.0, 10.0]\n"
     ]
    }
   ],
   "source": [
    "sqr_t = [math.sqrt(a)for a in Even_sq]\n",
    "print(sqr_t)"
   ]
  },
  {
   "cell_type": "code",
   "execution_count": 29,
   "id": "9a007077",
   "metadata": {},
   "outputs": [
    {
     "name": "stdout",
     "output_type": "stream",
     "text": [
      "[[0, 1, 2, 3], [0, 1, 2, 3], [0, 1, 2, 3], [0, 1, 2, 3]]\n",
      "[[0, 0, 0, 0, 1, 1, 1, 1, 2, 2, 2, 2, 3, 3, 3, 3]]\n"
     ]
    }
   ],
   "source": [
    "# Nested List Comprehensions\n",
    "mat  = [[a for a in range(4)]for i in range(4)]\n",
    "mat_r  = [[a for a in range(4)for i in range(4)]]\n",
    "print(mat)\n",
    "print(mat_r)"
   ]
  },
  {
   "cell_type": "code",
   "execution_count": 31,
   "id": "d0283cf6",
   "metadata": {},
   "outputs": [
    {
     "name": "stdout",
     "output_type": "stream",
     "text": [
      "[10, 20, 30, 40, 50]\n"
     ]
    }
   ],
   "source": [
    "# Using lambda function\n",
    "numbers = list(map(lambda i:i*10,[i for i in range(1,6)]))\n",
    "print(numbers)"
   ]
  },
  {
   "cell_type": "code",
   "execution_count": null,
   "id": "a571d26c",
   "metadata": {},
   "outputs": [],
   "source": []
  },
  {
   "cell_type": "code",
   "execution_count": null,
   "id": "3168c857",
   "metadata": {},
   "outputs": [],
   "source": []
  },
  {
   "cell_type": "code",
   "execution_count": null,
   "id": "30fe84d2",
   "metadata": {},
   "outputs": [],
   "source": []
  },
  {
   "cell_type": "markdown",
   "id": "e37a2046",
   "metadata": {},
   "source": [
    "List are mutable\n",
    "When $TWO$ lists are set equal to one another, one get automatically updated if one of them is updated "
   ]
  },
  {
   "cell_type": "code",
   "execution_count": 50,
   "id": "c4bdf580",
   "metadata": {},
   "outputs": [
    {
     "name": "stdout",
     "output_type": "stream",
     "text": [
      "[1, 2, 3, 4]\n",
      "[1, 2, 3, 4]\n"
     ]
    }
   ],
   "source": [
    "my_list = [1,2,3,4]\n",
    "newList = my_list\n",
    "print(my_list)\n",
    "print(newList)"
   ]
  },
  {
   "cell_type": "code",
   "execution_count": 51,
   "id": "0e737ecc",
   "metadata": {},
   "outputs": [],
   "source": [
    "newList.append(5)\n",
    "#print(newList)"
   ]
  },
  {
   "cell_type": "code",
   "execution_count": 52,
   "id": "6445c683",
   "metadata": {
    "scrolled": true
   },
   "outputs": [
    {
     "name": "stdout",
     "output_type": "stream",
     "text": [
      "[1, 2, 3, 4, 5]\n",
      "[1, 2, 3, 4, 5]\n"
     ]
    }
   ],
   "source": [
    "print(my_list)\n",
    "print(newList)"
   ]
  },
  {
   "cell_type": "code",
   "execution_count": 54,
   "id": "8ea1507f",
   "metadata": {},
   "outputs": [],
   "source": [
    "nw = newList"
   ]
  },
  {
   "cell_type": "code",
   "execution_count": 55,
   "id": "e68b769e",
   "metadata": {},
   "outputs": [],
   "source": [
    "my_list.append(7)"
   ]
  },
  {
   "cell_type": "code",
   "execution_count": 58,
   "id": "7abf62b5",
   "metadata": {},
   "outputs": [
    {
     "name": "stdout",
     "output_type": "stream",
     "text": [
      "[1, 2, 3, 4, 5, 7]\n"
     ]
    }
   ],
   "source": [
    "print(mm)"
   ]
  },
  {
   "cell_type": "code",
   "execution_count": 57,
   "id": "d5beb210",
   "metadata": {},
   "outputs": [],
   "source": [
    "mm = nw"
   ]
  },
  {
   "cell_type": "code",
   "execution_count": null,
   "id": "f337952e",
   "metadata": {},
   "outputs": [],
   "source": []
  }
 ],
 "metadata": {
  "kernelspec": {
   "display_name": "Python 3 (ipykernel)",
   "language": "python",
   "name": "python3"
  },
  "language_info": {
   "codemirror_mode": {
    "name": "ipython",
    "version": 3
   },
   "file_extension": ".py",
   "mimetype": "text/x-python",
   "name": "python",
   "nbconvert_exporter": "python",
   "pygments_lexer": "ipython3",
   "version": "3.8.8"
  }
 },
 "nbformat": 4,
 "nbformat_minor": 5
}
